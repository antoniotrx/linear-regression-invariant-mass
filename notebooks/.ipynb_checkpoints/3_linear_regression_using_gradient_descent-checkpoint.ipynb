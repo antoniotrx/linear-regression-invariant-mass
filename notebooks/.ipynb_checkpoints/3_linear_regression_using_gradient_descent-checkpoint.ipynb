{
 "cells": [
  {
   "cell_type": "code",
   "execution_count": 1,
   "id": "9c090a6f-df5e-450e-b6e1-310005b281ab",
   "metadata": {},
   "outputs": [],
   "source": [
    "import pandas as pd\n",
    "import numpy as np\n",
    "import matplotlib.pyplot as plt\n",
    "import seaborn as sns"
   ]
  },
  {
   "cell_type": "code",
   "execution_count": 2,
   "id": "c20185dd-1e67-4791-a17d-988ded41d921",
   "metadata": {},
   "outputs": [],
   "source": [
    "data_filepath = \"../data/cdata.csv\"\n",
    "data = pd.read_csv(data_filepath)"
   ]
  },
  {
   "cell_type": "code",
   "execution_count": 3,
   "id": "c868d58b-7199-4488-9771-ba83747271b6",
   "metadata": {},
   "outputs": [
    {
     "data": {
      "text/html": [
       "<div>\n",
       "<style scoped>\n",
       "    .dataframe tbody tr th:only-of-type {\n",
       "        vertical-align: middle;\n",
       "    }\n",
       "\n",
       "    .dataframe tbody tr th {\n",
       "        vertical-align: top;\n",
       "    }\n",
       "\n",
       "    .dataframe thead th {\n",
       "        text-align: right;\n",
       "    }\n",
       "</style>\n",
       "<table border=\"1\" class=\"dataframe\">\n",
       "  <thead>\n",
       "    <tr style=\"text-align: right;\">\n",
       "      <th></th>\n",
       "      <th>Run</th>\n",
       "      <th>Event</th>\n",
       "      <th>E1</th>\n",
       "      <th>px1</th>\n",
       "      <th>py1</th>\n",
       "      <th>pz1</th>\n",
       "      <th>pt1</th>\n",
       "      <th>eta1</th>\n",
       "      <th>phi1</th>\n",
       "      <th>Q1</th>\n",
       "      <th>...</th>\n",
       "      <th>pz2</th>\n",
       "      <th>pt2</th>\n",
       "      <th>eta2</th>\n",
       "      <th>phi2</th>\n",
       "      <th>Q2</th>\n",
       "      <th>M</th>\n",
       "      <th>T_E</th>\n",
       "      <th>T_p1</th>\n",
       "      <th>T_p2</th>\n",
       "      <th>T_p</th>\n",
       "    </tr>\n",
       "  </thead>\n",
       "  <tbody>\n",
       "    <tr>\n",
       "      <th>0</th>\n",
       "      <td>147115</td>\n",
       "      <td>366639895</td>\n",
       "      <td>58.71410</td>\n",
       "      <td>-7.31132</td>\n",
       "      <td>10.531000</td>\n",
       "      <td>-57.29740</td>\n",
       "      <td>12.82020</td>\n",
       "      <td>-2.20267</td>\n",
       "      <td>2.17766</td>\n",
       "      <td>1</td>\n",
       "      <td>...</td>\n",
       "      <td>-11.0778</td>\n",
       "      <td>2.14537</td>\n",
       "      <td>-2.344030</td>\n",
       "      <td>-2.072810</td>\n",
       "      <td>-1</td>\n",
       "      <td>8.94841</td>\n",
       "      <td>69.99770</td>\n",
       "      <td>58.714133</td>\n",
       "      <td>11.283628</td>\n",
       "      <td>69.423433</td>\n",
       "    </tr>\n",
       "    <tr>\n",
       "      <th>1</th>\n",
       "      <td>147115</td>\n",
       "      <td>366704169</td>\n",
       "      <td>6.61188</td>\n",
       "      <td>-4.15213</td>\n",
       "      <td>-0.579855</td>\n",
       "      <td>-5.11278</td>\n",
       "      <td>4.19242</td>\n",
       "      <td>-1.02842</td>\n",
       "      <td>-3.00284</td>\n",
       "      <td>-1</td>\n",
       "      <td>...</td>\n",
       "      <td>11.4647</td>\n",
       "      <td>12.75360</td>\n",
       "      <td>0.808077</td>\n",
       "      <td>2.734920</td>\n",
       "      <td>1</td>\n",
       "      <td>15.89300</td>\n",
       "      <td>23.76108</td>\n",
       "      <td>6.611878</td>\n",
       "      <td>17.149193</td>\n",
       "      <td>17.663530</td>\n",
       "    </tr>\n",
       "    <tr>\n",
       "      <th>2</th>\n",
       "      <td>147115</td>\n",
       "      <td>367112316</td>\n",
       "      <td>25.54190</td>\n",
       "      <td>-11.48090</td>\n",
       "      <td>2.041680</td>\n",
       "      <td>22.72460</td>\n",
       "      <td>11.66100</td>\n",
       "      <td>1.42048</td>\n",
       "      <td>2.96560</td>\n",
       "      <td>1</td>\n",
       "      <td>...</td>\n",
       "      <td>-15.5888</td>\n",
       "      <td>2.69667</td>\n",
       "      <td>-2.455080</td>\n",
       "      <td>2.148570</td>\n",
       "      <td>1</td>\n",
       "      <td>38.38770</td>\n",
       "      <td>41.36220</td>\n",
       "      <td>25.541867</td>\n",
       "      <td>15.820325</td>\n",
       "      <td>15.401734</td>\n",
       "    </tr>\n",
       "    <tr>\n",
       "      <th>3</th>\n",
       "      <td>147115</td>\n",
       "      <td>366952149</td>\n",
       "      <td>65.39590</td>\n",
       "      <td>7.51214</td>\n",
       "      <td>11.887100</td>\n",
       "      <td>63.86620</td>\n",
       "      <td>14.06190</td>\n",
       "      <td>2.21838</td>\n",
       "      <td>1.00721</td>\n",
       "      <td>1</td>\n",
       "      <td>...</td>\n",
       "      <td>24.6563</td>\n",
       "      <td>4.84272</td>\n",
       "      <td>2.330210</td>\n",
       "      <td>0.565865</td>\n",
       "      <td>-1</td>\n",
       "      <td>3.72862</td>\n",
       "      <td>90.52320</td>\n",
       "      <td>65.395924</td>\n",
       "      <td>25.127377</td>\n",
       "      <td>90.446476</td>\n",
       "    </tr>\n",
       "    <tr>\n",
       "      <th>4</th>\n",
       "      <td>147115</td>\n",
       "      <td>366523212</td>\n",
       "      <td>61.45040</td>\n",
       "      <td>2.95284</td>\n",
       "      <td>-14.622700</td>\n",
       "      <td>-59.61210</td>\n",
       "      <td>14.91790</td>\n",
       "      <td>-2.09375</td>\n",
       "      <td>-1.37154</td>\n",
       "      <td>-1</td>\n",
       "      <td>...</td>\n",
       "      <td>-13.6708</td>\n",
       "      <td>2.44145</td>\n",
       "      <td>-2.423700</td>\n",
       "      <td>-1.684810</td>\n",
       "      <td>-1</td>\n",
       "      <td>2.74718</td>\n",
       "      <td>75.33750</td>\n",
       "      <td>61.450347</td>\n",
       "      <td>13.887097</td>\n",
       "      <td>75.287343</td>\n",
       "    </tr>\n",
       "  </tbody>\n",
       "</table>\n",
       "<p>5 rows × 23 columns</p>\n",
       "</div>"
      ],
      "text/plain": [
       "      Run      Event        E1       px1        py1       pz1       pt1  \\\n",
       "0  147115  366639895  58.71410  -7.31132  10.531000 -57.29740  12.82020   \n",
       "1  147115  366704169   6.61188  -4.15213  -0.579855  -5.11278   4.19242   \n",
       "2  147115  367112316  25.54190 -11.48090   2.041680  22.72460  11.66100   \n",
       "3  147115  366952149  65.39590   7.51214  11.887100  63.86620  14.06190   \n",
       "4  147115  366523212  61.45040   2.95284 -14.622700 -59.61210  14.91790   \n",
       "\n",
       "      eta1     phi1  Q1  ...      pz2       pt2      eta2      phi2  Q2  \\\n",
       "0 -2.20267  2.17766   1  ... -11.0778   2.14537 -2.344030 -2.072810  -1   \n",
       "1 -1.02842 -3.00284  -1  ...  11.4647  12.75360  0.808077  2.734920   1   \n",
       "2  1.42048  2.96560   1  ... -15.5888   2.69667 -2.455080  2.148570   1   \n",
       "3  2.21838  1.00721   1  ...  24.6563   4.84272  2.330210  0.565865  -1   \n",
       "4 -2.09375 -1.37154  -1  ... -13.6708   2.44145 -2.423700 -1.684810  -1   \n",
       "\n",
       "          M       T_E       T_p1       T_p2        T_p  \n",
       "0   8.94841  69.99770  58.714133  11.283628  69.423433  \n",
       "1  15.89300  23.76108   6.611878  17.149193  17.663530  \n",
       "2  38.38770  41.36220  25.541867  15.820325  15.401734  \n",
       "3   3.72862  90.52320  65.395924  25.127377  90.446476  \n",
       "4   2.74718  75.33750  61.450347  13.887097  75.287343  \n",
       "\n",
       "[5 rows x 23 columns]"
      ]
     },
     "execution_count": 3,
     "metadata": {},
     "output_type": "execute_result"
    }
   ],
   "source": [
    "data.head()"
   ]
  },
  {
   "cell_type": "markdown",
   "id": "951d58f8-533d-49f7-95e1-b09cb7489e5f",
   "metadata": {},
   "source": [
    "# Gradient Descent algorithm\n",
    "\n",
    "Let's try to iteratively find the weights and bias using a gradient descent algorithm. In other words, we need to find the weight and bias that produce minimal loss.To do this we initially put arbitrary values for bias and weights (usually 0) then calculate the loss and the slope of the loss function. And use the calcualted slope to update the values for bias and weights as: $\\beta = \\beta_{old} - (lr * \\beta_{slope})$, where lr is a hyperparameter called learning rate of the model. In this notebook we again utilize matrix operations."
   ]
  },
  {
   "cell_type": "code",
   "execution_count": 4,
   "id": "b4202aa7-d463-428f-af96-de3eda459d74",
   "metadata": {},
   "outputs": [],
   "source": [
    "# split predictors and target variable\n",
    "x = data.drop(columns=[\"M\", \"Run\", \"Event\"], axis=1)\n",
    "y = data[\"M\"]"
   ]
  },
  {
   "cell_type": "code",
   "execution_count": 5,
   "id": "b307e8d1-b674-4a6c-b183-8ebfa4b01d83",
   "metadata": {},
   "outputs": [],
   "source": [
    "# train-test split\n",
    "from sklearn.model_selection import train_test_split\n",
    "\n",
    "x_train, x_test, y_train, y_test = train_test_split(x, y, test_size=0.3, random_state=23)"
   ]
  },
  {
   "cell_type": "code",
   "execution_count": 6,
   "id": "2fd57b3d-1fb2-4296-9805-ebe631f7f5ee",
   "metadata": {},
   "outputs": [
    {
     "data": {
      "text/html": [
       "<div>\n",
       "<style scoped>\n",
       "    .dataframe tbody tr th:only-of-type {\n",
       "        vertical-align: middle;\n",
       "    }\n",
       "\n",
       "    .dataframe tbody tr th {\n",
       "        vertical-align: top;\n",
       "    }\n",
       "\n",
       "    .dataframe thead th {\n",
       "        text-align: right;\n",
       "    }\n",
       "</style>\n",
       "<table border=\"1\" class=\"dataframe\">\n",
       "  <thead>\n",
       "    <tr style=\"text-align: right;\">\n",
       "      <th></th>\n",
       "      <th>E1</th>\n",
       "      <th>px1</th>\n",
       "      <th>py1</th>\n",
       "      <th>pz1</th>\n",
       "      <th>pt1</th>\n",
       "      <th>eta1</th>\n",
       "      <th>phi1</th>\n",
       "      <th>Q1</th>\n",
       "      <th>E2</th>\n",
       "      <th>px2</th>\n",
       "      <th>py2</th>\n",
       "      <th>pz2</th>\n",
       "      <th>pt2</th>\n",
       "      <th>eta2</th>\n",
       "      <th>phi2</th>\n",
       "      <th>Q2</th>\n",
       "      <th>T_E</th>\n",
       "      <th>T_p1</th>\n",
       "      <th>T_p2</th>\n",
       "      <th>T_p</th>\n",
       "    </tr>\n",
       "  </thead>\n",
       "  <tbody>\n",
       "    <tr>\n",
       "      <th>34336</th>\n",
       "      <td>20.64270</td>\n",
       "      <td>5.92955</td>\n",
       "      <td>-19.688200</td>\n",
       "      <td>-1.826220</td>\n",
       "      <td>20.56180</td>\n",
       "      <td>-0.088700</td>\n",
       "      <td>-1.278260</td>\n",
       "      <td>1</td>\n",
       "      <td>18.9878</td>\n",
       "      <td>-1.27955</td>\n",
       "      <td>6.70270</td>\n",
       "      <td>17.71930</td>\n",
       "      <td>6.82375</td>\n",
       "      <td>1.68256</td>\n",
       "      <td>1.75943</td>\n",
       "      <td>1</td>\n",
       "      <td>39.63050</td>\n",
       "      <td>20.642671</td>\n",
       "      <td>18.987813</td>\n",
       "      <td>21.043662</td>\n",
       "    </tr>\n",
       "    <tr>\n",
       "      <th>9366</th>\n",
       "      <td>79.97370</td>\n",
       "      <td>13.71170</td>\n",
       "      <td>-6.764400</td>\n",
       "      <td>-78.498600</td>\n",
       "      <td>15.28950</td>\n",
       "      <td>-2.338410</td>\n",
       "      <td>-0.458297</td>\n",
       "      <td>-1</td>\n",
       "      <td>10.1378</td>\n",
       "      <td>-0.84098</td>\n",
       "      <td>2.41188</td>\n",
       "      <td>9.81078</td>\n",
       "      <td>2.55429</td>\n",
       "      <td>2.05539</td>\n",
       "      <td>1.90630</td>\n",
       "      <td>1</td>\n",
       "      <td>90.11150</td>\n",
       "      <td>79.973733</td>\n",
       "      <td>10.137841</td>\n",
       "      <td>70.018687</td>\n",
       "    </tr>\n",
       "    <tr>\n",
       "      <th>63738</th>\n",
       "      <td>5.29115</td>\n",
       "      <td>-1.18417</td>\n",
       "      <td>-4.148510</td>\n",
       "      <td>-3.063300</td>\n",
       "      <td>4.31421</td>\n",
       "      <td>-0.660880</td>\n",
       "      <td>-1.848850</td>\n",
       "      <td>-1</td>\n",
       "      <td>42.0739</td>\n",
       "      <td>5.54896</td>\n",
       "      <td>18.17160</td>\n",
       "      <td>-37.53950</td>\n",
       "      <td>19.00000</td>\n",
       "      <td>-1.43275</td>\n",
       "      <td>1.27443</td>\n",
       "      <td>1</td>\n",
       "      <td>47.36505</td>\n",
       "      <td>5.291144</td>\n",
       "      <td>42.073888</td>\n",
       "      <td>43.177376</td>\n",
       "    </tr>\n",
       "    <tr>\n",
       "      <th>81006</th>\n",
       "      <td>2.28118</td>\n",
       "      <td>2.07170</td>\n",
       "      <td>0.732464</td>\n",
       "      <td>-0.612629</td>\n",
       "      <td>2.19738</td>\n",
       "      <td>-0.275309</td>\n",
       "      <td>0.339839</td>\n",
       "      <td>-1</td>\n",
       "      <td>68.4735</td>\n",
       "      <td>-1.69244</td>\n",
       "      <td>-11.56200</td>\n",
       "      <td>67.46900</td>\n",
       "      <td>11.68520</td>\n",
       "      <td>2.45391</td>\n",
       "      <td>-1.71614</td>\n",
       "      <td>1</td>\n",
       "      <td>70.75468</td>\n",
       "      <td>2.281175</td>\n",
       "      <td>68.473427</td>\n",
       "      <td>67.728849</td>\n",
       "    </tr>\n",
       "    <tr>\n",
       "      <th>19570</th>\n",
       "      <td>94.31240</td>\n",
       "      <td>-11.01580</td>\n",
       "      <td>-13.254800</td>\n",
       "      <td>-92.724200</td>\n",
       "      <td>17.23480</td>\n",
       "      <td>-2.384380</td>\n",
       "      <td>-2.264200</td>\n",
       "      <td>1</td>\n",
       "      <td>16.5053</td>\n",
       "      <td>-1.00971</td>\n",
       "      <td>2.97575</td>\n",
       "      <td>16.20340</td>\n",
       "      <td>3.14239</td>\n",
       "      <td>2.34266</td>\n",
       "      <td>1.89792</td>\n",
       "      <td>1</td>\n",
       "      <td>110.81770</td>\n",
       "      <td>94.312326</td>\n",
       "      <td>16.505295</td>\n",
       "      <td>78.139008</td>\n",
       "    </tr>\n",
       "  </tbody>\n",
       "</table>\n",
       "</div>"
      ],
      "text/plain": [
       "             E1       px1        py1        pz1       pt1      eta1      phi1  \\\n",
       "34336  20.64270   5.92955 -19.688200  -1.826220  20.56180 -0.088700 -1.278260   \n",
       "9366   79.97370  13.71170  -6.764400 -78.498600  15.28950 -2.338410 -0.458297   \n",
       "63738   5.29115  -1.18417  -4.148510  -3.063300   4.31421 -0.660880 -1.848850   \n",
       "81006   2.28118   2.07170   0.732464  -0.612629   2.19738 -0.275309  0.339839   \n",
       "19570  94.31240 -11.01580 -13.254800 -92.724200  17.23480 -2.384380 -2.264200   \n",
       "\n",
       "       Q1       E2      px2       py2       pz2       pt2     eta2     phi2  \\\n",
       "34336   1  18.9878 -1.27955   6.70270  17.71930   6.82375  1.68256  1.75943   \n",
       "9366   -1  10.1378 -0.84098   2.41188   9.81078   2.55429  2.05539  1.90630   \n",
       "63738  -1  42.0739  5.54896  18.17160 -37.53950  19.00000 -1.43275  1.27443   \n",
       "81006  -1  68.4735 -1.69244 -11.56200  67.46900  11.68520  2.45391 -1.71614   \n",
       "19570   1  16.5053 -1.00971   2.97575  16.20340   3.14239  2.34266  1.89792   \n",
       "\n",
       "       Q2        T_E       T_p1       T_p2        T_p  \n",
       "34336   1   39.63050  20.642671  18.987813  21.043662  \n",
       "9366    1   90.11150  79.973733  10.137841  70.018687  \n",
       "63738   1   47.36505   5.291144  42.073888  43.177376  \n",
       "81006   1   70.75468   2.281175  68.473427  67.728849  \n",
       "19570   1  110.81770  94.312326  16.505295  78.139008  "
      ]
     },
     "execution_count": 6,
     "metadata": {},
     "output_type": "execute_result"
    }
   ],
   "source": [
    "x_train.head()"
   ]
  },
  {
   "cell_type": "code",
   "execution_count": 7,
   "id": "be352e45-d21f-432b-9428-2da5229a8938",
   "metadata": {},
   "outputs": [
    {
     "data": {
      "text/plain": [
       "(69924, 20)"
      ]
     },
     "execution_count": 7,
     "metadata": {},
     "output_type": "execute_result"
    }
   ],
   "source": [
    "x_train.shape"
   ]
  },
  {
   "cell_type": "code",
   "execution_count": 8,
   "id": "47d2d3b2-fc18-4983-b9d1-650aab4d0148",
   "metadata": {},
   "outputs": [
    {
     "data": {
      "text/plain": [
       "array([[  1.        ,  20.6427    ,   5.92955   , ...,  20.6426709 ,\n",
       "         18.98781262,  21.0436618 ],\n",
       "       [  1.        ,  79.9737    ,  13.7117    , ...,  79.97373335,\n",
       "         10.13784083,  70.01868665],\n",
       "       [  1.        ,   5.29115   ,  -1.18417   , ...,   5.29114361,\n",
       "         42.07388815,  43.17737617],\n",
       "       ...,\n",
       "       [  1.        ,  40.1113    , -20.6467    , ...,  40.11128048,\n",
       "         18.3855986 ,  54.83215205],\n",
       "       [  1.        ,  28.8674    ,  14.732     , ...,  28.86739274,\n",
       "         12.78472535,  19.91500189],\n",
       "       [  1.        ,   0.87275   ,  -0.492308  , ...,   0.87275031,\n",
       "         64.15430514,  64.79577428]], shape=(69924, 21))"
      ]
     },
     "execution_count": 8,
     "metadata": {},
     "output_type": "execute_result"
    }
   ],
   "source": [
    "# Create a column vector with 69924 rows\n",
    "ones_column_train = np.ones((x_train.shape[0], 1))\n",
    "# Prepend 1 to each row of the x_train 2D array \n",
    "x_train = np.hstack([ones_column_train, x_train])\n",
    "x_train"
   ]
  },
  {
   "cell_type": "code",
   "execution_count": 9,
   "id": "a818ee5e-4d3b-4802-8293-dc7d0cde965b",
   "metadata": {},
   "outputs": [
    {
     "data": {
      "text/plain": [
       "(29968,)"
      ]
     },
     "execution_count": 9,
     "metadata": {},
     "output_type": "execute_result"
    }
   ],
   "source": [
    "y_test.shape"
   ]
  },
  {
   "cell_type": "code",
   "execution_count": 10,
   "id": "6f8c3c27-b82a-436a-9339-2955781d617c",
   "metadata": {},
   "outputs": [],
   "source": [
    "N = y_train.shape[0] # Total number of target variable values inside the y_train column vector\n",
    "lr = 1E-5 # Learning rate\n",
    "number_of_iterations = 1250 \n",
    "x_trainTransposed = np.transpose(x_train)\n",
    "beta = np.zeros(x_train.shape[1]) # Column vector with 21 rows, for bias and weights storage\n",
    "beta_slope = np.zeros(x_train.shape[1]) # Column vector with 21 rows, for storage of the slope of the bias and weights\n",
    "loss_array = np.zeros(number_of_iterations) # Column vector with 1250 rows for storage of loss values"
   ]
  },
  {
   "cell_type": "code",
   "execution_count": 11,
   "id": "761d59d9-7d97-41e3-a96d-f1f04ca381e2",
   "metadata": {},
   "outputs": [],
   "source": [
    "# The gradient descent algorithm implementation\n",
    "\n",
    "for i in range(number_of_iterations):\n",
    "    # Model estimation\n",
    "    model = x_train.dot(beta)\n",
    "    # Error calculation\n",
    "    mse =  sum((model - y_train) ** 2) / N\n",
    "    # Append error to array\n",
    "    loss_array[i] = mse\n",
    "\n",
    "    # Slope calculation for:\n",
    "    #     - bias which is stored in beta array as index 0\n",
    "    #     - feature weights, we have 20 features in the dataset so 20 weights\n",
    "    for i in range(beta_slope.shape[0]):\n",
    "        beta_slope[i] = (2/N) * sum ((model - y_train) * x_trainTransposed[i])\n",
    "\n",
    "    # Bias and weights change\n",
    "    beta = beta - (lr * beta_slope)"
   ]
  },
  {
   "cell_type": "code",
   "execution_count": 12,
   "id": "76dd3036-09f9-4da3-bfeb-a6e081091c6a",
   "metadata": {},
   "outputs": [],
   "source": [
    "loss_array;"
   ]
  },
  {
   "cell_type": "code",
   "execution_count": 13,
   "id": "a2dd1c1d-0aaa-4b0f-b515-55d70313b027",
   "metadata": {},
   "outputs": [
    {
     "data": {
      "text/plain": [
       "array([ 1.89180080e-02,  3.23946077e-01,  7.28752640e-03,  7.01239727e-03,\n",
       "        2.84796343e-03,  3.30271660e-01,  1.34614610e-03, -2.40112350e-03,\n",
       "        6.48926795e-04,  3.46135359e-01,  1.25979705e-03, -1.06002352e-03,\n",
       "        3.09773444e-03,  2.10032761e-01,  2.16976182e-03, -1.80551897e-03,\n",
       "       -7.73250706e-04,  6.70081435e-01,  3.23946241e-01,  3.46135606e-01,\n",
       "       -1.22317791e+00])"
      ]
     },
     "execution_count": 13,
     "metadata": {},
     "output_type": "execute_result"
    }
   ],
   "source": [
    "beta"
   ]
  },
  {
   "cell_type": "code",
   "execution_count": 14,
   "id": "cdd1e77c-ba98-41db-8747-fc8c814b6fa3",
   "metadata": {},
   "outputs": [
    {
     "data": {
      "text/plain": [
       "(29968, 20)"
      ]
     },
     "execution_count": 14,
     "metadata": {},
     "output_type": "execute_result"
    }
   ],
   "source": [
    "x_test.shape"
   ]
  },
  {
   "cell_type": "code",
   "execution_count": 15,
   "id": "b705ff38-eeae-45bc-a2bc-c93e1be3946a",
   "metadata": {},
   "outputs": [
    {
     "data": {
      "text/plain": [
       "array([[  1.        ,  14.1522    ,  -3.90052   , ...,  14.15213942,\n",
       "         38.56409425,  24.82645259],\n",
       "       [  1.        ,  22.5917    ,   3.20659   , ...,  22.59171736,\n",
       "         31.09508882,  53.62557869],\n",
       "       [  1.        ,  24.0409    , -11.3677    , ...,  24.04089923,\n",
       "          3.57630104,  21.18090299],\n",
       "       ...,\n",
       "       [  1.        ,  58.5763    , -18.8319    , ...,  58.57622139,\n",
       "         19.75352336,  42.91977648],\n",
       "       [  1.        ,  51.2202    ,   3.29371   , ...,  51.22023044,\n",
       "          5.57881759,  54.82068361],\n",
       "       [  1.        ,   5.42801   ,  -1.43895   , ...,   5.42800817,\n",
       "         68.88803422,  69.76123005]], shape=(29968, 21))"
      ]
     },
     "execution_count": 15,
     "metadata": {},
     "output_type": "execute_result"
    }
   ],
   "source": [
    "# Create a column vector with 29968 rows\n",
    "ones_column_test = np.ones((x_test.shape[0], 1))\n",
    "# Prepend 1 to each row of the 2D array\n",
    "x_test = np.hstack([ones_column_test, x_test])\n",
    "x_test"
   ]
  },
  {
   "cell_type": "code",
   "execution_count": 16,
   "id": "2ad543a7-c164-4b53-a29a-ad65721c2f5e",
   "metadata": {},
   "outputs": [
    {
     "data": {
      "text/plain": [
       "array([44.42892686, 10.29876267, 14.96974449, 14.88622991, 10.03816277])"
      ]
     },
     "execution_count": 16,
     "metadata": {},
     "output_type": "execute_result"
    }
   ],
   "source": [
    "# Prediction of target variable\n",
    "yPredictions = x_test.dot(beta)\n",
    "yPredictions[:5]"
   ]
  },
  {
   "cell_type": "code",
   "execution_count": 17,
   "id": "ccaa7477-e10f-43fd-a78d-14809646d11f",
   "metadata": {},
   "outputs": [
    {
     "data": {
      "text/plain": [
       "8224     46.50430\n",
       "67507     2.56327\n",
       "72036    17.72230\n",
       "7255     15.52310\n",
       "82637     5.35287\n",
       "Name: M, dtype: float64"
      ]
     },
     "execution_count": 17,
     "metadata": {},
     "output_type": "execute_result"
    }
   ],
   "source": [
    "y_test[:5]"
   ]
  },
  {
   "cell_type": "code",
   "execution_count": 18,
   "id": "7d9701bd-5867-4406-af10-7083e2b18b88",
   "metadata": {},
   "outputs": [],
   "source": [
    "# Error calculation (model evaluation)\n",
    "ae_series = np.abs(yPredictions - y_test)\n",
    "se_series = np.square(yPredictions - y_test)\n",
    "mae = ae_series.mean()\n",
    "mse = se_series.mean()\n",
    "rmse = np.sqrt(mse)"
   ]
  },
  {
   "cell_type": "code",
   "execution_count": 19,
   "id": "2bfe005f-f508-4e29-b3d8-6cc69a31b841",
   "metadata": {},
   "outputs": [
    {
     "name": "stdout",
     "output_type": "stream",
     "text": [
      "Mean squared error: 88.36556354759843;\n",
      "Root Mean Squared Error: 9.400295928724713;\n",
      "Mean Absolute Error: 6.379570252683649.\n"
     ]
    }
   ],
   "source": [
    "print(f\"Mean squared error: {mse};\\nRoot Mean Squared Error: {rmse};\\nMean Absolute Error: {mae}.\")"
   ]
  },
  {
   "cell_type": "markdown",
   "id": "7e406cd3-d342-4630-9229-47fe5a8bf9f9",
   "metadata": {},
   "source": [
    "We get errors not so different than the ones from the previous two notebooks."
   ]
  },
  {
   "cell_type": "code",
   "execution_count": 20,
   "id": "8d8d2b4e-12c0-4427-bba1-cbdc36aa7899",
   "metadata": {},
   "outputs": [
    {
     "data": {
      "text/plain": [
       "Text(0, 0.5, 'Loss')"
      ]
     },
     "execution_count": 20,
     "metadata": {},
     "output_type": "execute_result"
    },
    {
     "data": {
      "image/png": "[encoded data removed]",
      "text/plain": [
       "<Figure size 800x600 with 1 Axes>"
      ]
     },
     "metadata": {},
     "output_type": "display_data"
    }
   ],
   "source": [
    "# Loss Curve Plot - How loss changes thorugh the many iterations\n",
    "# It is ideal if the curve tends towards 0 as the iterations increase\n",
    "plt.figure(figsize=(8, 6))\n",
    "sns.lineplot(loss_array)\n",
    "plt.title(\"Loss Curve\")\n",
    "plt.xlabel(\"Iterations\")\n",
    "plt.ylabel(\"Loss\")"
   ]
  },
  {
   "cell_type": "code",
   "execution_count": null,
   "id": "617d8f1d-a9c8-4bd4-b914-cdf5f7622ace",
   "metadata": {},
   "outputs": [],
   "source": []
  }
 ],
 "metadata": {
  "kernelspec": {
   "display_name": "Python 3 (ipykernel)",
   "language": "python",
   "name": "python3"
  },
  "language_info": {
   "codemirror_mode": {
    "name": "ipython",
    "version": 3
   },
   "file_extension": ".py",
   "mimetype": "text/x-python",
   "name": "python",
   "nbconvert_exporter": "python",
   "pygments_lexer": "ipython3",
   "version": "3.12.3"
  }
 },
 "nbformat": 4,
 "nbformat_minor": 5
}
